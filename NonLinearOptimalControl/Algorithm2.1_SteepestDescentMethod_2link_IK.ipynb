{
  "nbformat": 4,
  "nbformat_minor": 0,
  "metadata": {
    "colab": {
      "name": "Algorithm2.1_SteepestDescentMethod_2link_IK.ipynb",
      "provenance": [],
      "authorship_tag": "ABX9TyPIJxzZP685Xn6SMFr0Ja+F",
      "include_colab_link": true
    },
    "kernelspec": {
      "name": "python3",
      "display_name": "Python 3"
    }
  },
  "cells": [
    {
      "cell_type": "markdown",
      "metadata": {
        "id": "view-in-github",
        "colab_type": "text"
      },
      "source": [
        "<a href=\"https://colab.research.google.com/github/TakashiSato/colaboratory/blob/master/NonLinearOptimalControl/Algorithm2.1_SteepestDescentMethod_2link_IK.ipynb\" target=\"_parent\"><img src=\"https://colab.research.google.com/assets/colab-badge.svg\" alt=\"Open In Colab\"/></a>"
      ]
    },
    {
      "cell_type": "code",
      "metadata": {
        "id": "wx9IFGm0wXB2",
        "colab_type": "code",
        "colab": {}
      },
      "source": [
        "import sys\n",
        "import numpy as np\n",
        "import sympy\n",
        "from sympy import *\n",
        "import matplotlib.pyplot as plt"
      ],
      "execution_count": null,
      "outputs": []
    },
    {
      "cell_type": "code",
      "metadata": {
        "id": "SPTy0G-dxS0L",
        "colab_type": "code",
        "colab": {}
      },
      "source": [
        "def custom_latex_printer(expr, **options):\n",
        "    from IPython.display import Math, HTML\n",
        "    from google.colab.output._publish import javascript\n",
        "    url = \"https://cdnjs.cloudflare.com/ajax/libs/mathjax/2.7.7/MathJax.js?config=TeX-AMS_CHTML\"\n",
        "    javascript(content=\"\"\"window.MathJax = {\n",
        "        tex2jax: {\n",
        "            inlineMath: [ ['$','$'] ],\n",
        "            processEscapes: true\n",
        "        }\n",
        "        };\"\"\")\n",
        "    javascript(url=url)\n",
        "    return latex(expr, **options)\n",
        "init_printing(use_latex=\"mathjax\", latex_printer=custom_latex_printer)"
      ],
      "execution_count": null,
      "outputs": []
    },
    {
      "cell_type": "code",
      "metadata": {
        "id": "N3wNGCFvwZNm",
        "colab_type": "code",
        "colab": {
          "base_uri": "https://localhost:8080/",
          "height": 38
        },
        "outputId": "36475f5e-5bd8-45cb-c811-f44d451a93a5"
      },
      "source": [
        "sympy.var(['theta_1', 'theta_2', 'l_1', 'l_2', 'x', 'y'])"
      ],
      "execution_count": null,
      "outputs": [
        {
          "output_type": "display_data",
          "data": {
            "application/javascript": [
              "window.MathJax = {\n",
              "        tex2jax: {\n",
              "            inlineMath: [ ['$','$'] ],\n",
              "            processEscapes: true\n",
              "        }\n",
              "        };\n",
              "//# sourceURL=js_498bee0571"
            ],
            "text/plain": [
              "<IPython.core.display.Javascript object>"
            ]
          },
          "metadata": {
            "tags": []
          }
        },
        {
          "output_type": "display_data",
          "data": {
            "text/html": [
              "<script src='https://cdnjs.cloudflare.com/ajax/libs/mathjax/2.7.7/MathJax.js?config=TeX-AMS_CHTML'></script>"
            ],
            "text/plain": [
              "<IPython.core.display.HTML object>"
            ]
          },
          "metadata": {
            "tags": []
          }
        },
        {
          "output_type": "execute_result",
          "data": {
            "text/latex": "$$\\left [ \\theta_{1}, \\quad \\theta_{2}, \\quad l_{1}, \\quad l_{2}, \\quad x, \\quad y\\right ]$$",
            "text/plain": [
              "[θ₁, θ₂, l₁, l₂, x, y]"
            ]
          },
          "metadata": {
            "tags": []
          },
          "execution_count": 99
        }
      ]
    },
    {
      "cell_type": "code",
      "metadata": {
        "id": "_5oc_Ofuwfyi",
        "colab_type": "code",
        "colab": {
          "base_uri": "https://localhost:8080/",
          "height": 58
        },
        "outputId": "2f0251bd-acd9-4d2f-9edb-39ad96317d48"
      },
      "source": [
        "# Forward Kinematics\n",
        "FK = Matrix([[cos(theta_1),cos(theta_1+theta_2)],[sin(theta_1),sin(theta_1+theta_2)]]) * Matrix([[l_1], [l_2]])\n",
        "FK"
      ],
      "execution_count": null,
      "outputs": [
        {
          "output_type": "display_data",
          "data": {
            "application/javascript": [
              "window.MathJax = {\n",
              "        tex2jax: {\n",
              "            inlineMath: [ ['$','$'] ],\n",
              "            processEscapes: true\n",
              "        }\n",
              "        };\n",
              "//# sourceURL=js_498bee0571"
            ],
            "text/plain": [
              "<IPython.core.display.Javascript object>"
            ]
          },
          "metadata": {
            "tags": []
          }
        },
        {
          "output_type": "display_data",
          "data": {
            "text/html": [
              "<script src='https://cdnjs.cloudflare.com/ajax/libs/mathjax/2.7.7/MathJax.js?config=TeX-AMS_CHTML'></script>"
            ],
            "text/plain": [
              "<IPython.core.display.HTML object>"
            ]
          },
          "metadata": {
            "tags": []
          }
        },
        {
          "output_type": "execute_result",
          "data": {
            "text/latex": "$$\\left[\\begin{matrix}l_{1} \\cos{\\left (\\theta_{1} \\right )} + l_{2} \\cos{\\left (\\theta_{1} + \\theta_{2} \\right )}\\\\l_{1} \\sin{\\left (\\theta_{1} \\right )} + l_{2} \\sin{\\left (\\theta_{1} + \\theta_{2} \\right )}\\end{matrix}\\right]$$",
            "text/plain": [
              "⎡l₁⋅cos(θ₁) + l₂⋅cos(θ₁ + θ₂)⎤\n",
              "⎢                            ⎥\n",
              "⎣l₁⋅sin(θ₁) + l₂⋅sin(θ₁ + θ₂)⎦"
            ]
          },
          "metadata": {
            "tags": []
          },
          "execution_count": 100
        }
      ]
    },
    {
      "cell_type": "code",
      "metadata": {
        "id": "tMCP-WN5zYue",
        "colab_type": "code",
        "colab": {}
      },
      "source": [
        "X = Matrix([[x], [y]])"
      ],
      "execution_count": null,
      "outputs": []
    },
    {
      "cell_type": "markdown",
      "metadata": {
        "id": "RFJaG8N1yOLr",
        "colab_type": "text"
      },
      "source": [
        "## 評価関数"
      ]
    },
    {
      "cell_type": "code",
      "metadata": {
        "id": "GzbqxRlQx9ae",
        "colab_type": "code",
        "colab": {}
      },
      "source": [
        "g = X - FK"
      ],
      "execution_count": null,
      "outputs": []
    },
    {
      "cell_type": "code",
      "metadata": {
        "id": "JsSKcnn3yNK2",
        "colab_type": "code",
        "colab": {
          "base_uri": "https://localhost:8080/",
          "height": 39
        },
        "outputId": "b0acbc76-fd60-47ff-95ca-c56ddf18f152"
      },
      "source": [
        "f = g.T * g\n",
        "f"
      ],
      "execution_count": null,
      "outputs": [
        {
          "output_type": "display_data",
          "data": {
            "application/javascript": [
              "window.MathJax = {\n",
              "        tex2jax: {\n",
              "            inlineMath: [ ['$','$'] ],\n",
              "            processEscapes: true\n",
              "        }\n",
              "        };\n",
              "//# sourceURL=js_498bee0571"
            ],
            "text/plain": [
              "<IPython.core.display.Javascript object>"
            ]
          },
          "metadata": {
            "tags": []
          }
        },
        {
          "output_type": "display_data",
          "data": {
            "text/html": [
              "<script src='https://cdnjs.cloudflare.com/ajax/libs/mathjax/2.7.7/MathJax.js?config=TeX-AMS_CHTML'></script>"
            ],
            "text/plain": [
              "<IPython.core.display.HTML object>"
            ]
          },
          "metadata": {
            "tags": []
          }
        },
        {
          "output_type": "execute_result",
          "data": {
            "text/latex": "$$\\left[\\begin{matrix}\\left(- l_{1} \\sin{\\left (\\theta_{1} \\right )} - l_{2} \\sin{\\left (\\theta_{1} + \\theta_{2} \\right )} + y\\right)^{2} + \\left(- l_{1} \\cos{\\left (\\theta_{1} \\right )} - l_{2} \\cos{\\left (\\theta_{1} + \\theta_{2} \\right )} + x\\right)^{2}\\end{matrix}\\right]$$",
            "text/plain": [
              "⎡                                   2                                      2⎤\n",
              "⎣(-l₁⋅sin(θ₁) - l₂⋅sin(θ₁ + θ₂) + y)  + (-l₁⋅cos(θ₁) - l₂⋅cos(θ₁ + θ₂) + x) ⎦"
            ]
          },
          "metadata": {
            "tags": []
          },
          "execution_count": 111
        }
      ]
    },
    {
      "cell_type": "markdown",
      "metadata": {
        "id": "OCLu5TySzkJr",
        "colab_type": "text"
      },
      "source": [
        "## 勾配ベクトル"
      ]
    },
    {
      "cell_type": "code",
      "metadata": {
        "id": "Vs9hfhqXw4LQ",
        "colab_type": "code",
        "colab": {
          "base_uri": "https://localhost:8080/",
          "height": 58
        },
        "outputId": "14ffc676-ab5f-4bde-dc71-803bc50f437f"
      },
      "source": [
        "rf_rt = Matrix([diff(f, theta_1), diff(f, theta_2)]).T\n",
        "rf_rt"
      ],
      "execution_count": null,
      "outputs": [
        {
          "output_type": "display_data",
          "data": {
            "application/javascript": [
              "window.MathJax = {\n",
              "        tex2jax: {\n",
              "            inlineMath: [ ['$','$'] ],\n",
              "            processEscapes: true\n",
              "        }\n",
              "        };\n",
              "//# sourceURL=js_498bee0571"
            ],
            "text/plain": [
              "<IPython.core.display.Javascript object>"
            ]
          },
          "metadata": {
            "tags": []
          }
        },
        {
          "output_type": "display_data",
          "data": {
            "text/html": [
              "<script src='https://cdnjs.cloudflare.com/ajax/libs/mathjax/2.7.7/MathJax.js?config=TeX-AMS_CHTML'></script>"
            ],
            "text/plain": [
              "<IPython.core.display.HTML object>"
            ]
          },
          "metadata": {
            "tags": []
          }
        },
        {
          "output_type": "execute_result",
          "data": {
            "text/latex": "$$\\left[\\begin{matrix}\\left(2 l_{1} \\sin{\\left (\\theta_{1} \\right )} + 2 l_{2} \\sin{\\left (\\theta_{1} + \\theta_{2} \\right )}\\right) \\left(- l_{1} \\cos{\\left (\\theta_{1} \\right )} - l_{2} \\cos{\\left (\\theta_{1} + \\theta_{2} \\right )} + x\\right) + \\left(- 2 l_{1} \\cos{\\left (\\theta_{1} \\right )} - 2 l_{2} \\cos{\\left (\\theta_{1} + \\theta_{2} \\right )}\\right) \\left(- l_{1} \\sin{\\left (\\theta_{1} \\right )} - l_{2} \\sin{\\left (\\theta_{1} + \\theta_{2} \\right )} + y\\right) & - 2 l_{2} \\left(- l_{1} \\sin{\\left (\\theta_{1} \\right )} - l_{2} \\sin{\\left (\\theta_{1} + \\theta_{2} \\right )} + y\\right) \\cos{\\left (\\theta_{1} + \\theta_{2} \\right )} + 2 l_{2} \\left(- l_{1} \\cos{\\left (\\theta_{1} \\right )} - l_{2} \\cos{\\left (\\theta_{1} + \\theta_{2} \\right )} + x\\right) \\sin{\\left (\\theta_{1} + \\theta_{2} \\right )}\\end{matrix}\\right]$$",
            "text/plain": [
              "[(2⋅l₁⋅sin(θ₁) + 2⋅l₂⋅sin(θ₁ + θ₂))⋅(-l₁⋅cos(θ₁) - l₂⋅cos(θ₁ + θ₂) + x) + (-2⋅\n",
              "l₁⋅cos(θ₁) - 2⋅l₂⋅cos(θ₁ + θ₂))⋅(-l₁⋅sin(θ₁) - l₂⋅sin(θ₁ + θ₂) + y)  -2⋅l₂⋅(-l\n",
              "₁⋅sin(θ₁) - l₂⋅sin(θ₁ + θ₂) + y)⋅cos(θ₁ + θ₂) + 2⋅l₂⋅(-l₁⋅cos(θ₁) - l₂⋅cos(θ₁ \n",
              "+ θ₂) + x)⋅sin(θ₁ + θ₂)]"
            ]
          },
          "metadata": {
            "tags": []
          },
          "execution_count": 104
        }
      ]
    },
    {
      "cell_type": "markdown",
      "metadata": {
        "id": "nJu0W4ti3RHS",
        "colab_type": "text"
      },
      "source": [
        "## 再急降下法"
      ]
    },
    {
      "cell_type": "code",
      "metadata": {
        "id": "KarVXD3vymKV",
        "colab_type": "code",
        "colab": {}
      },
      "source": [
        "def steepest_descent_method(xd, yd, link1_length, link2_length, init_theta_1, init_theta_2, epsilon):\n",
        "\n",
        "  params = ((l_1, link1_length), (l_2, link2_length), (x, xd), (y, yd))\n",
        "  FK_s = FK.subs(params)\n",
        "  # FK_s = FK.subs([(l_1, link1_length), (l_2, link2_length), (x, xd), (y, yd)])\n",
        "  rf_rt_s = rf_rt.subs([(l_1, link1_length), (l_2, link2_length), (x, xd), (y, yd)])\n",
        "  f_s = f.subs([(l_1, link1_length), (l_2, link2_length), (x, xd), (y, yd)])\n",
        " \n",
        "  def compute_slope_vector(theta):\n",
        "    return rf_rt_s.subs([(theta_1, theta[0]), (theta_2, theta[1])])\n",
        "\n",
        "  def compute_descent_vector(theta):  \n",
        "    return -compute_slope_vector(theta).T\n",
        "\n",
        "  def compute_forward_kinematics(theta):  \n",
        "    return FK_s.subs([(theta_1, theta[0]), (theta_2, theta[1])])\n",
        "\n",
        "  def compute_eval_value(theta):  \n",
        "    return f_s.subs([(theta_1, theta[0]), (theta_2, theta[1])])[0]\n",
        "\n",
        "  # def compute_slope_vector(theta):\n",
        "  #   return rf_rt.subs([(l_1, link1_length), (l_2, link2_length), (x, xd), (y, yd), (theta_1, theta[0]), (theta_2, theta[1])])\n",
        "\n",
        "  # def compute_descent_vector(theta):  \n",
        "  #   return -compute_slope_vector(theta).T\n",
        "\n",
        "  # def compute_forward_kinematics(theta):  \n",
        "  #   return FK.subs([(l_1, link1_length), (l_2, link2_length), (x, xd), (y, yd), (theta_1, theta[0]), (theta_2, theta[1])])\n",
        "\n",
        "  # def compute_eval_value(theta):  \n",
        "  #   return f.subs([(l_1, link1_length), (l_2, link2_length), (x, xd), (y, yd), (theta_1, theta[0]), (theta_2, theta[1])])[0]\n",
        "\n",
        "  theta = Matrix([init_theta_1, init_theta_2])\n",
        "  for i in range(100):\n",
        "    slope = compute_slope_vector(theta)\n",
        "    slope_norm = slope.norm()\n",
        "    if slope_norm < epsilon:\n",
        "      break\n",
        "    s = compute_descent_vector(theta)\n",
        "\n",
        "    # 直線探索\n",
        "    eval_min = sys.float_info.max\n",
        "    alpha_star = 0.\n",
        "    for alpha in np.linspace(0.0, 1.0, 10):\n",
        "      temp_theta = theta + alpha * s\n",
        "      eval_value = compute_eval_value(temp_theta)\n",
        "      if eval_value < eval_min:\n",
        "        eval_min = eval_value\n",
        "        alpha_star = alpha\n",
        "    theta = theta + alpha_star * s\n",
        "    fk = compute_forward_kinematics(theta)\n",
        "\n",
        "    print('[%d] FK: [%f, %f], theta: [%f, %f], alpha: %f, s: [%f, %f], eval_value: %f, slope_norm: %f' % (i, fk[0], fk[1], theta[0], theta[1], min_alpha, s[0], s[1], eval_min, slope_norm))\n",
        "\n",
        "  print('==== Result ====')\n",
        "  theta = np.array(theta).astype(np.float64)\n",
        "  print('[%d] FK: [%f, %f], theta: [%f, %f (rad): %f, %f (deg)], eval_value: %f, slope_norm: %f' % (i, fk[0], fk[1], theta[0], theta[1], np.degrees(theta[0]), np.degrees(theta[1]), compute_eval_value(theta), slope_norm))\n",
        "  return theta"
      ],
      "execution_count": null,
      "outputs": []
    },
    {
      "cell_type": "code",
      "metadata": {
        "id": "TWlq0jzVABE1",
        "colab_type": "code",
        "colab": {}
      },
      "source": [
        "def steepest_descent_method(f_symbols, x_symbols, x0, epsilon=1e-4, max_iteration=100):\n",
        " \n",
        "  # slope_symbols = sympy.tensor.array.derive_by_array(f_symbols, x_symbols)\n",
        "  slope_symbols = sympy.zeros(len(vars),1)\n",
        "  for i in range(len(x_symbols)):\n",
        "    slope_symbols[i] = diff(f_symbols, x_symbols[i])\n",
        "\n",
        "  for i in range(max_iteration):\n",
        "    slope =  slope_symbols.subs(list(zip(x_symbols, x0)))\n",
        "    if slope.norm() < epsilon:\n",
        "      break\n",
        "    s = -slope\n",
        "\n",
        "    # 直線探索\n",
        "    eval_min = sys.float_info.max\n",
        "    alpha_star = 0.\n",
        "    for alpha in np.linspace(0.0, 1.0, 10):\n",
        "      x_temp = x0 + alpha * s\n",
        "      eval_value = f_symbols.subs(list(zip(x_symbols, x_temp)))\n",
        "      if eval_value < eval_min:\n",
        "        eval_min = eval_value\n",
        "        alpha_star = alpha\n",
        "    x0 = x0 + alpha_star * s\n",
        "    print(i, x0, eval_value)\n",
        "    \n",
        "  return np.array(x0).astype(np.float64)"
      ],
      "execution_count": null,
      "outputs": []
    },
    {
      "cell_type": "markdown",
      "metadata": {
        "id": "SDZ8aSSS57-g",
        "colab_type": "text"
      },
      "source": [
        "## 具体値計算"
      ]
    },
    {
      "cell_type": "code",
      "metadata": {
        "id": "L8r5vIlV02Np",
        "colab_type": "code",
        "colab": {
          "base_uri": "https://localhost:8080/",
          "height": 1000
        },
        "outputId": "be44af9c-2760-4684-a34e-7baf87bdbbc7"
      },
      "source": [
        "link1_length = 0.5\n",
        "link2_length = 0.5\n",
        "xd = 0.8\n",
        "yd = 0.5\n",
        "\n",
        "init_theta_1 = 1.0\n",
        "init_theta_2 = 1.0\n",
        "epsilon = 1e-4\n",
        "\n",
        "def plot_result(theta):\n",
        "  def compute_forward_kinematics(theta):  \n",
        "    fk = FK.subs([(l_1, link1_length), (l_2, link2_length), (x, xd), (y, yd), (theta_1, theta[0]), (theta_2, theta[1])])\n",
        "    return np.array(fk.T).astype(np.float64)[0]\n",
        "\n",
        "  fk = compute_forward_kinematics(theta)\n",
        "  fk_link1 = [link1_length*np.cos(theta[0]), link1_length*np.sin(theta[0])]\n",
        "  plt.plot([0, fk_link1[0], fk[0]], [0, fk_link1[1], fk[1]])\n",
        "  plt.plot([0, fk_link1[0], fk[0]], [0, fk_link1[1], fk[1]], 'o')\n",
        "  plt.plot(xd, yd, 'x')\n",
        "  plt.axes().set_aspect('equal', 'datalim')\n",
        "\n",
        "# theta = steepest_descent_method(xd, yd, link1_length, link2_length, init_theta_1, init_theta_2, epsilon)\n",
        "known_values = ((l_1, link1_length), (l_2, link2_length), (x, xd), (y, yd))\n",
        "vars = Matrix([theta_1, theta_2])\n",
        "vars_init = Matrix([init_theta_1, init_theta_2])\n",
        "\n",
        "# f2 = f.subs(known_values)\n",
        "# f2.subs(zip(vars, vars_init))\n",
        "theta_star = steepest_descent_method(f.subs(known_values)[0], vars, vars_init, epsilon)\n",
        "plot_result(theta_star)"
      ],
      "execution_count": null,
      "outputs": [
        {
          "output_type": "stream",
          "text": [
            "0 Matrix([[0.256368336307576], [0.714013407038795]]) 0.379256314244286\n",
            "1 Matrix([[0.213352489008573], [0.691723273551535]]) 0.00401663921919503\n",
            "2 Matrix([[0.212746194708764], [0.690927768170921]]) 6.88849113878712e-6\n",
            "3 Matrix([[0.213437214672258], [0.690433611948529]]) 5.74350039155105e-6\n",
            "4 Matrix([[0.213340086543385], [0.689574238329727]]) 5.26348559019202e-6\n",
            "5 Matrix([[0.214178436808707], [0.689232725271548]]) 4.84311452275931e-6\n",
            "6 Matrix([[0.213908429044436], [0.688521495117323]]) 4.48521461820120e-6\n",
            "7 Matrix([[0.214672393642019], [0.688203899566814]]) 4.10487010459476e-6\n",
            "8 Matrix([[0.214430595661068], [0.687553165580954]]) 3.80073214601205e-6\n",
            "9 Matrix([[0.215127186424646], [0.687257860944109]]) 3.48089638549061e-6\n",
            "10 Matrix([[0.214910531352907], [0.686662183878450]]) 3.22232715650643e-6\n",
            "11 Matrix([[0.215546035683131], [0.686387645953640]]) 2.95312584440357e-6\n",
            "12 Matrix([[0.215351814646597], [0.685842120176041]]) 2.73320606144444e-6\n",
            "13 Matrix([[0.215931880130558], [0.685586922422118]]) 2.50643101081228e-6\n",
            "14 Matrix([[0.215732812679671], [0.685015715991929]]) 2.31931186142781e-6\n",
            "15 Matrix([[0.216228555895170], [0.684876284119872]]) 2.14196889554366e-6\n",
            "16 Matrix([[0.216108800382930], [0.684326383791335]]) 1.96404097232260e-6\n",
            "17 Matrix([[0.216561304312467], [0.684195897691644]]) 1.81853464618120e-6\n",
            "18 Matrix([[0.216454767127140], [0.683691376385869]]) 1.66841357087021e-6\n",
            "19 Matrix([[0.216926998252241], [0.683551882018136]]) 1.54447286660742e-6\n",
            "20 Matrix([[0.216783724833058], [0.683157735787201]]) 1.42692569873628e-6\n",
            "21 Matrix([[0.217204567994138], [0.682975858527628]]) 1.30890644843290e-6\n",
            "22 Matrix([[0.217075718795393], [0.682614318296981]]) 1.21237390507684e-6\n",
            "23 Matrix([[0.217460536249760], [0.682445179617311]]) 1.11267525575578e-6\n",
            "24 Matrix([[0.217328076928770], [0.682066064526208]]) 1.03037489555726e-6\n",
            "25 Matrix([[0.217657514575795], [0.681973657769849]]) 9.52264837582613e-7\n",
            "26 Matrix([[0.217577447192391], [0.681608235941866]]) 8.73748394612962e-7\n",
            "27 Matrix([[0.217878618814595], [0.681521758388901]]) 8.09578631477812e-7\n",
            "28 Matrix([[0.217807161712631], [0.681186093768275]]) 7.43183214000004e-7\n",
            "29 Matrix([[0.218121911863634], [0.681093641463396]]) 6.88433517185875e-7\n",
            "30 Matrix([[0.218025891674614], [0.680831067827712]]) 6.36411985306445e-7\n",
            "31 Matrix([[0.218306702444121], [0.680710349098398]]) 5.84053390834345e-7\n",
            "32 Matrix([[0.218220159270461], [0.680469245004076]]) 5.41320600646675e-7\n",
            "33 Matrix([[0.218477232209884], [0.680356941760376]]) 4.97009195203534e-7\n",
            "34 Matrix([[0.218388080745787], [0.680103874763056]]) 4.60526896136499e-7\n",
            "35 Matrix([[0.218608464422864], [0.680042654937224]]) 4.25822448092442e-7\n",
            "36 Matrix([[0.218554253576780], [0.679798583108027]]) 3.90837701337112e-7\n",
            "37 Matrix([[0.218755933875068], [0.679741284164357]]) 3.62343144627297e-7\n",
            "38 Matrix([[0.218707440860122], [0.679516913225286]]) 3.32715793598133e-7\n",
            "39 Matrix([[0.218892040273759], [0.679463304343606]]) 3.08376683367072e-7\n",
            "40 Matrix([[0.218848674512815], [0.679257012839056]]) 2.83278190106372e-7\n",
            "41 Matrix([[0.219041811853039], [0.679199711558824]]) 2.62487010680602e-7\n",
            "42 Matrix([[0.218983209164670], [0.679038256084262]]) 2.42754687881539e-7\n",
            "43 Matrix([[0.219155741834321], [0.678963604641502]]) 2.22916919710171e-7\n",
            "44 Matrix([[0.219102842578886], [0.678815228371588]]) 2.06661377828030e-7\n",
            "45 Matrix([[0.219260936063533], [0.678745770213342]]) 1.89848007418472e-7\n",
            "46 Matrix([[0.219206365322917], [0.678589913737884]]) 1.75956489304191e-7\n",
            "47 Matrix([[0.219341972644003], [0.678551958189834]]) 1.62752867001868e-7\n",
            "48 Matrix([[0.219308814004378], [0.678401510614992]]) 1.49453666131950e-7\n",
            "49 Matrix([[0.219433012719356], [0.678365991488299]]) 1.38588281900703e-7\n",
            "50 Matrix([[0.219403310660577], [0.678227602117101]]) 1.27312251561595e-7\n",
            "51 Matrix([[0.219533327044819], [0.678189627670866]]) 1.18023913946310e-7\n",
            "52 Matrix([[0.219493434156445], [0.678081209578484]]) 1.09180725222573e-7\n",
            "53 Matrix([[0.219609586247605], [0.678031550965245]]) 1.00256300097990e-7\n",
            "54 Matrix([[0.219573538538550], [0.677931874810525]]) 9.29885613387008e-8\n",
            "55 Matrix([[0.219680018899636], [0.677885659454562]]) 8.54194779532152e-8\n",
            "56 Matrix([[0.219647448440578], [0.677794011555583]]) 7.92048461747004e-8\n",
            "57 Matrix([[0.219745072654779], [0.677751006620904]]) 7.27839882444100e-8\n",
            "58 Matrix([[0.219711443219912], [0.677654693606139]]) 6.74698897060255e-8\n",
            "59 Matrix([[0.219795214689096], [0.677631166444811]]) 6.24204256321239e-8\n"
          ],
          "name": "stdout"
        },
        {
          "output_type": "stream",
          "text": [
            "/usr/local/lib/python3.6/dist-packages/ipykernel_launcher.py:20: MatplotlibDeprecationWarning: Adding an axes using the same arguments as a previous axes currently reuses the earlier instance.  In a future version, a new instance will always be created and returned.  Meanwhile, this warning can be suppressed, and the future behavior ensured, by passing a unique label to each axes instance.\n"
          ],
          "name": "stderr"
        },
        {
          "output_type": "display_data",
          "data": {
            "image/png": "[encoded data removed]",
            "text/plain": [
              "<Figure size 432x288 with 1 Axes>"
            ]
          },
          "metadata": {
            "tags": [],
            "needs_background": "light"
          }
        }
      ]
    },
    {
      "cell_type": "code",
      "metadata": {
        "id": "Wcpuw64s_hMy",
        "colab_type": "code",
        "colab": {}
      },
      "source": [
        ""
      ],
      "execution_count": null,
      "outputs": []
    }
  ]
}