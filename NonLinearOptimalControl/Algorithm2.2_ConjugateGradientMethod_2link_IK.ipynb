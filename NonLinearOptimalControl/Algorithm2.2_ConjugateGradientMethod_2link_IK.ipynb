{
  "nbformat": 4,
  "nbformat_minor": 0,
  "metadata": {
    "colab": {
      "name": "Algorithm2.1_SteepestDescentMethod_2link_IK.ipynb",
      "provenance": [],
      "authorship_tag": "ABX9TyMsvFrDxQOwsiFY648q4c0P",
      "include_colab_link": true
    },
    "kernelspec": {
      "name": "python3",
      "display_name": "Python 3"
    }
  },
  "cells": [
    {
      "cell_type": "markdown",
      "metadata": {
        "id": "view-in-github",
        "colab_type": "text"
      },
      "source": [
        "<a href=\"https://colab.research.google.com/github/TakashiSato/colaboratory/blob/master/NonLinearOptimalControl/Algorithm2.2_ConjugateGradientMethod_2link_IK.ipynb\" target=\"_parent\"><img src=\"https://colab.research.google.com/assets/colab-badge.svg\" alt=\"Open In Colab\"/></a>"
      ]
    },
    {
      "cell_type": "code",
      "metadata": {
        "id": "wx9IFGm0wXB2",
        "colab_type": "code",
        "colab": {}
      },
      "source": [
        "import sys\n",
        "import numpy as np\n",
        "import sympy\n",
        "from sympy import *\n",
        "import matplotlib.pyplot as plt\n",
        "from mpl_toolkits.mplot3d import Axes3D"
      ],
      "execution_count": 1,
      "outputs": []
    },
    {
      "cell_type": "code",
      "metadata": {
        "id": "SPTy0G-dxS0L",
        "colab_type": "code",
        "colab": {}
      },
      "source": [
        "def custom_latex_printer(expr, **options):\n",
        "    from IPython.display import Math, HTML\n",
        "    from google.colab.output._publish import javascript\n",
        "    url = \"https://cdnjs.cloudflare.com/ajax/libs/mathjax/2.7.7/MathJax.js?config=TeX-AMS_CHTML\"\n",
        "    javascript(content=\"\"\"window.MathJax = {\n",
        "        tex2jax: {\n",
        "            inlineMath: [ ['$','$'] ],\n",
        "            processEscapes: true\n",
        "        }\n",
        "        };\"\"\")\n",
        "    javascript(url=url)\n",
        "    return latex(expr, **options)\n",
        "init_printing(use_latex=\"mathjax\", latex_printer=custom_latex_printer)"
      ],
      "execution_count": 2,
      "outputs": []
    },
    {
      "cell_type": "markdown",
      "metadata": {
        "id": "h5sT2lRqJJ6e",
        "colab_type": "text"
      },
      "source": [
        "## Robot Arm Class Definition"
      ]
    },
    {
      "cell_type": "code",
      "metadata": {
        "id": "_5oc_Ofuwfyi",
        "colab_type": "code",
        "colab": {}
      },
      "source": [
        "class DHParameter():\n",
        "  def __init__(self, link_size):\n",
        "    self.link_size = link_size\n",
        "    self.a  = sympy.zeros(self.link_size, 1)\n",
        "    self.alpha  = sympy.zeros(self.link_size, 1)\n",
        "    self.d = sympy.zeros(self.link_size, 1)\n",
        "    self.theta = sympy.zeros(self.link_size, 1)\n",
        "    for i in range(self.link_size):\n",
        "      self.a[i], self.alpha[i], self.d[i], self.theta[i] = sympy.var(['a_'+str(i), 'alpha_'+str(i), 'd_' + str(i+1), 'theta_'+str(i+1)])\n",
        "\n",
        "  def get_symbols(self):\n",
        "      return self.a, self.alpha, self.d, self.theta\n",
        "\n",
        "class RobotArm():\n",
        "  def __init__(self, joint_size):\n",
        "    self.joint_size = joint_size\n",
        "    self.link_size = joint_size + 1\n",
        "    # create symbols\n",
        "    self.dh = DHParameter(self.link_size)\n",
        "    a, alpha, d, theta = self.dh.get_symbols()\n",
        "\n",
        "    # create HT-matrix\n",
        "    self.T_i = []\n",
        "    self.T_base = []\n",
        "    for i in range(self.link_size):\n",
        "      T = Matrix([[cos(theta[i]), -sin(theta[i]), 0, a[i]], [cos(alpha[i])*sin(theta[i]), cos(alpha[i])*cos(theta[i]), -sin(alpha[i]), -d[i]*sin(alpha[i])], [sin(alpha[i])*sin(theta[i]), sin(alpha[i])*cos(theta[i]), cos(alpha[i]), d[i]*cos(alpha[i])],[0,0,0,1]])\n",
        "      self.T_i.append(T)\n",
        "      self.T_base.append(self.T_i[0] if i == 0  else self.T_base[i-1] * self.T_i[i])\n",
        "\n",
        "  def get_dh_symbols(self):\n",
        "    return self.dh.get_symbols()\n",
        "\n",
        "  def set_dh_parameters(self, dh_params):\n",
        "    for i in range(self.link_size):\n",
        "        self.T_i[i] = self.T_i[i].subs(dh_params)\n",
        "        self.T_base[i] = self.T_i[0] if i == 0  else self.T_base[i-1] * self.T_i[i]\n",
        "        # self.T_base[i] = self.T_base[i].subs(dh_params)\n",
        "\n",
        "  def forward_kinematics(self, q):\n",
        "    T_base = []\n",
        "    if len(q) != self.joint_size:\n",
        "      print('invalid joint length')\n",
        "    np.append(q, 0)\n",
        "    subs_dict = dict(zip(self.dh.theta, q))\n",
        "    for i in range(self.link_size):\n",
        "      T_base.append(self.T_base[i].subs(subs_dict))\n",
        "    return T_base\n",
        "\n",
        "  def draw(self, q, coordinate='xy', style='-bo'):\n",
        "      T_base = []\n",
        "      T_base.append(sympy.eye(4,4))\n",
        "      T_base.extend(self.forward_kinematics(q))\n",
        "      for i in range(len(T_base)-1):\n",
        "        X = [T_base[i][0,3], T_base[i+1][0,3]]\n",
        "        Y = [T_base[i][1,3], T_base[i+1][1,3]]\n",
        "        Z = [T_base[i][2,3], T_base[i+1][2,3]]\n",
        "        if coordinate == 'xy':\n",
        "          plt.plot(X, Y, style)\n",
        "        elif coordinate == 'xz':\n",
        "          plt.plot(X, Z, style)\n",
        "        elif coordinate == 'yz':\n",
        "          plt.plot(Y, Z, style)\n",
        "      plt.axes().set_aspect('equal', 'datalim')\n",
        "\n",
        "def normalize_angle(angle):\n",
        "  while angle > np.pi:\n",
        "    angle -= np.pi\n",
        "  while angle < -np.pi:\n",
        "    angle += np.pi\n",
        "  return angle"
      ],
      "execution_count": 3,
      "outputs": []
    },
    {
      "cell_type": "code",
      "metadata": {
        "id": "FuYNIcIu5-1n",
        "colab_type": "code",
        "colab": {
          "base_uri": "https://localhost:8080/",
          "height": 302
        },
        "outputId": "61e054a6-22d3-4b13-b1e8-89aba4ca20b4"
      },
      "source": [
        "# joint_size = 2    \n",
        "# robot = RobotArm(joint_size)\n",
        "# a, alpha, d, theta = robot.get_dh_symbols()\n",
        "# robot.set_dh_parameters({\n",
        "#     a[0]: 0,     alpha[0]: 0, d[0]: 0,\n",
        "#     a[1]: 0.5, alpha[1]: 0, d[1]: 0,\n",
        "#     a[2]: 0.5, alpha[2]: 0, d[2]: 0, theta[2]: 0,\n",
        "# })\n",
        "# robot.forward_kinematics([0, np.pi/2])\n",
        "# robot.draw([np.pi/2, np.pi/4])\n",
        "\n",
        "joint_size = 7\n",
        "robot = RobotArm(joint_size)\n",
        "a, alpha, d, theta = robot.get_dh_symbols()\n",
        "robot.set_dh_parameters({\n",
        "    a[0]: 0, alpha[0]: 0,               d[0]: 0.215,\n",
        "    a[1]: 0, alpha[1]: -np.pi/2, d[1]: 0,\n",
        "    a[2]: 0, alpha[2]: +np.pi/2, d[2]: 0.300,\n",
        "    a[3]: 0, alpha[3]: -np.pi/2,  d[3]: 0,\n",
        "    a[4]: 0, alpha[4]: +np.pi/2, d[4]: 0.300,\n",
        "    a[5]: 0, alpha[5]: -np.pi/2,  d[5]: 0,\n",
        "    a[6]: 0, alpha[6]: +np.pi/2, d[6]: 0.170,\n",
        "    a[7]: 0, alpha[7]: 0,                d[7]: 0, theta[7]: 0,\n",
        "})\n",
        "# robot.T_base[2]\n",
        "# robot.T_base[2][0:3,3]\n",
        "# robot.draw([0,0, np.pi/4,np.pi/2],'yz')\n",
        "# robot.forward_kinematics([0,np.pi/2,0,0,0,0,0])[2]\n",
        "# robot.forward_kinematics([0,np.pi/2])\n",
        "# robot.draw([np.pi/2,np.pi/2], 'xz')?\n",
        "robot.draw([0,np.pi/2, 0,0,0,np.pi/2,0], 'xz')"
      ],
      "execution_count": 4,
      "outputs": [
        {
          "output_type": "stream",
          "text": [
            "/usr/local/lib/python3.6/dist-packages/ipykernel_launcher.py:63: MatplotlibDeprecationWarning: Adding an axes using the same arguments as a previous axes currently reuses the earlier instance.  In a future version, a new instance will always be created and returned.  Meanwhile, this warning can be suppressed, and the future behavior ensured, by passing a unique label to each axes instance.\n"
          ],
          "name": "stderr"
        },
        {
          "output_type": "display_data",
          "data": {
            "image/png": "[encoded data removed]",
            "text/plain": [
              "<Figure size 432x288 with 1 Axes>"
            ]
          },
          "metadata": {
            "tags": [],
            "needs_background": "light"
          }
        }
      ]
    },
    {
      "cell_type": "code",
      "metadata": {
        "id": "J8SzG0nKS5nL",
        "colab_type": "code",
        "colab": {}
      },
      "source": [
        "class OptimizationResult():\n",
        "  def __init__(self):\n",
        "    self.x_symbols = None\n",
        "    self.f_symbols = None\n",
        "    self.slope_symbols = None\n",
        "    self.x_star = []\n",
        "    self.x0_log = []\n",
        "    self.eval_log = []\n",
        "\n",
        "  def record_log(self, x0, eval):\n",
        "    self.x0_log.append(x0)\n",
        "    self.eval_log.append(eval)\n",
        "\n",
        "  def set_result(self, f_symbols, slope_symbols, x_symbols, x_star):\n",
        "    self.f_symbols = f_symbols\n",
        "    self.slope_symbols = slope_symbols\n",
        "    self.x_symbols = x_symbols\n",
        "    self.x_star = np.array(x_star).astype(np.float64).reshape(1,-1)[0]"
      ],
      "execution_count": 5,
      "outputs": []
    },
    {
      "cell_type": "code",
      "metadata": {
        "id": "TWlq0jzVABE1",
        "colab_type": "code",
        "colab": {}
      },
      "source": [
        "def steepest_descent_method(f_symbols, x_symbols, x0, epsilon=1e-4, max_iteration=100):\n",
        "  ret = OptimizationResult()\n",
        "\n",
        "  # slope_symbols = sympy.tensor.array.derive_by_array(f_symbols, x_symbols)\n",
        "  slope_symbols = sympy.zeros(len(x_symbols),1)\n",
        "  for i in range(len(x_symbols)):\n",
        "    slope_symbols[i] = diff(f_symbols, x_symbols[i])\n",
        "\n",
        "  ret.record_log(x0, f_symbols.subs(list(zip(x_symbols, x0))))\n",
        "  for i in range(max_iteration):\n",
        "    slope =  slope_symbols.subs(list(zip(x_symbols, x0)))\n",
        "    if slope.norm() < epsilon:\n",
        "      break\n",
        "    s = -slope\n",
        "\n",
        "    # 直線探索\n",
        "    eval_min = sys.float_info.max\n",
        "    alpha_star = 0.\n",
        "    for alpha in np.linspace(0.0, 5.0, 10):\n",
        "      x_temp = x0 + alpha * s\n",
        "      eval_value = f_symbols.subs(list(zip(x_symbols, x_temp)))\n",
        "      if eval_value < eval_min:\n",
        "        eval_min = eval_value\n",
        "        alpha_star = alpha\n",
        "    x0 = x0 + alpha_star * s\n",
        "    ret.record_log(x0, eval_min)\n",
        "\n",
        "    if i % 10 == 0:\n",
        "      print(i, x0, eval_value, slope.norm())\n",
        "  ret.set_result(f_symbols, slope_symbols, x_symbols, x0)     \n",
        "  return ret"
      ],
      "execution_count": 6,
      "outputs": []
    },
    {
      "cell_type": "code",
      "metadata": {
        "id": "Eb_SbPPWf3-L",
        "colab_type": "code",
        "colab": {}
      },
      "source": [
        "def conjugate_gradient_method(f_symbols, x_symbols, x0, epsilon=1e-4, max_iteration=100):\n",
        "  ret = OptimizationResult()\n",
        "\n",
        "  # slope_symbols = sympy.tensor.array.derive_by_array(f_symbols, x_symbols)\n",
        "  slope_symbols = sympy.zeros(len(x_symbols),1)\n",
        "  for i in range(len(x_symbols)):\n",
        "    slope_symbols[i] = diff(f_symbols, x_symbols[i])\n",
        "\n",
        "  ret.record_log(x0, f_symbols.subs(list(zip(x_symbols, x0))))\n",
        "  n = len(x_symbols)\n",
        "  k = 0\n",
        "  x_k = x0\n",
        "  for i in range(max_iteration):\n",
        "    if(k == 0):\n",
        "      slope =  slope_symbols.subs(list(zip(x_symbols, x_k)))\n",
        "      s_k = d_k = -slope\n",
        "    else:\n",
        "      s_k = s_kp1\n",
        "      d_k = d_kp1\n",
        "\n",
        "    if d_k.norm() < epsilon:\n",
        "      break\n",
        "\n",
        "    # 直線探索\n",
        "    eval_min = sys.float_info.max\n",
        "    alpha_k = 0.\n",
        "    for alpha in np.linspace(0.0, 5.0, 10):\n",
        "      x_temp = x_k + alpha * s_k\n",
        "      eval_value = f_symbols.subs(list(zip(x_symbols, x_temp)))\n",
        "      if eval_value < eval_min:\n",
        "        eval_min = eval_value\n",
        "        alpha_k = alpha\n",
        "    x_k = x_k + alpha_k * s_k\n",
        "    for j in range(len(x_k)):\n",
        "      x_k[j] = normalize_angle(x_k[j])\n",
        "\n",
        "    if k < n-1:\n",
        "      slope =  slope_symbols.subs(list(zip(x_symbols, x_k)))\n",
        "      d_kp1 = -slope\n",
        "      # beta_k = d_kp1 * (d_kp1 - d_k) / (d_k.norm() ** 2)\n",
        "      beta_k = (d_kp1.norm() ** 2) / (d_k.norm() ** 2)\n",
        "      s_kp1 = d_kp1 + beta_k * s_k\n",
        "      k += 1\n",
        "    else:\n",
        "      k = 0\n",
        "    ret.record_log(x_k, eval_min)\n",
        "\n",
        "    if i % 10 == 0:\n",
        "      print(i, x_k, eval_value, d_kp1.norm())\n",
        "  ret.set_result(f_symbols, slope_symbols, x_symbols, x_k)     \n",
        "  return ret"
      ],
      "execution_count": 7,
      "outputs": []
    },
    {
      "cell_type": "markdown",
      "metadata": {
        "id": "SDZ8aSSS57-g",
        "colab_type": "text"
      },
      "source": [
        "## 具体値計算"
      ]
    },
    {
      "cell_type": "code",
      "metadata": {
        "id": "nZbyjORCKJqu",
        "colab_type": "code",
        "colab": {
          "base_uri": "https://localhost:8080/",
          "height": 600
        },
        "outputId": "0f9c81d2-52fc-463c-d69b-959926d2b543"
      },
      "source": [
        "# create robot arm\n",
        "robot = RobotArm(2)\n",
        "a, alpha, d, theta = robot.get_dh_symbols()\n",
        "robot.set_dh_parameters({\n",
        "    a[0]: 0,     alpha[0]: 0, d[0]: 0,\n",
        "    a[1]: 0.5, alpha[1]: 0, d[1]: 0,\n",
        "    a[2]: 0.5, alpha[2]: 0, d[2]: 0, theta[2]: 0,\n",
        "})\n",
        "\n",
        "# problem settings\n",
        "def rand(min, max):\n",
        "  return (max - min)\n",
        "x0 = Matrix(np.random.uniform(-np.pi, np.pi, 2))\n",
        "xd = Matrix(np.random.uniform(-1, 1, 2))\n",
        "ee_pose = robot.T_base[2][0:2,3]\n",
        "f_symbols = Matrix((xd - ee_pose).T * (xd - ee_pose))[0]\n",
        "x_symbols = Matrix(theta[0:2])\n",
        "\n",
        "def plot_result(result):\n",
        "  for x_ in result.x0_log:\n",
        "    robot.draw(x_, style='--bo')\n",
        "  robot.draw(result.x0_log[0], style='-go')\n",
        "  robot.draw(result.x_star, style='-ro')\n",
        "  plt.plot(xd[0], xd[1], 'r*')\n",
        "\n",
        "  plt.figure()\n",
        "  t1 = t2 = np.linspace(-np.pi, np.pi, 100)\n",
        "  f_func = sympy.lambdify(result.x_symbols, result.f_symbols, 'numpy') \n",
        "  slope_func = sympy.lambdify(result.x_symbols, result.slope_symbols, 'numpy') \n",
        "  X, Y = np.meshgrid(t1, t2)\n",
        "  Z = f_func(X, Y)\n",
        "  cont = plt.contour(X, Y, Z)\n",
        "  cont.clabel(fmt='%1.1f', fontsize=14)\n",
        "  x0_ = []\n",
        "  y0_ = []\n",
        "  for x0 in result.x0_log:\n",
        "    x0_.append(x0[0])\n",
        "    y0_.append(x0[1])\n",
        "  plt.plot(x0_, y0_, '--o')\n",
        "  plt.plot(x0_[-1], y0_[-1], 'r*')\n",
        "  plt.axes().set_aspect('equal')\n",
        "  plt.title('evaluation function')\n",
        "  # plt.pcolormesh(X,Y,Z,cmap='cool')\n",
        "\n",
        "# solve problem\n",
        "# result = steepest_descent_method(f_symbols, x_symbols, x0, epsilon=1e-3, max_iteration=100)\n",
        "result = conjugate_gradient_method(f_symbols, x_symbols, x0, epsilon=1e-3, max_iteration=100)\n",
        "plot_result(result)"
      ],
      "execution_count": 10,
      "outputs": [
        {
          "output_type": "stream",
          "text": [
            "0 Matrix([[2.29971277457829], [0.138229771006992]]) 2.06247213977892 0.543900843739770\n"
          ],
          "name": "stdout"
        },
        {
          "output_type": "stream",
          "text": [
            "/usr/local/lib/python3.6/dist-packages/ipykernel_launcher.py:63: MatplotlibDeprecationWarning: Adding an axes using the same arguments as a previous axes currently reuses the earlier instance.  In a future version, a new instance will always be created and returned.  Meanwhile, this warning can be suppressed, and the future behavior ensured, by passing a unique label to each axes instance.\n",
            "/usr/local/lib/python3.6/dist-packages/ipykernel_launcher.py:41: MatplotlibDeprecationWarning: Adding an axes using the same arguments as a previous axes currently reuses the earlier instance.  In a future version, a new instance will always be created and returned.  Meanwhile, this warning can be suppressed, and the future behavior ensured, by passing a unique label to each axes instance.\n"
          ],
          "name": "stderr"
        },
        {
          "output_type": "display_data",
          "data": {
            "image/png": "[encoded data removed]",
            "text/plain": [
              "<Figure size 432x288 with 1 Axes>"
            ]
          },
          "metadata": {
            "tags": [],
            "needs_background": "light"
          }
        },
        {
          "output_type": "display_data",
          "data": {
            "image/png": "[encoded data removed]",
            "text/plain": [
              "<Figure size 432x288 with 1 Axes>"
            ]
          },
          "metadata": {
            "tags": [],
            "needs_background": "light"
          }
        }
      ]
    },
    {
      "cell_type": "code",
      "metadata": {
        "id": "-1diV5Srmwun",
        "colab_type": "code",
        "colab": {}
      },
      "source": [
        ""
      ],
      "execution_count": 8,
      "outputs": []
    }
  ]
}